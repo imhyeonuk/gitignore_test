{
 "cells": [
  {
   "cell_type": "markdown",
   "metadata": {},
   "source": [
    "1시간 정도의 시간 안에 3명의 팀원이 협업할 수 있는 간단한 파이썬 프로그램으로 **간단한 숫자 퀴즈 게임**을 제안합니다. 이 게임은 사용자에게 랜덤한 숫자를 제시하고, 사용자가 그 숫자가 짝수인지 홀수인지 맞추는 형식입니다.\n",
    "\n",
    "### 프로그램 설명: \n",
    "- 사용자는 화면에 제시된 숫자가 짝수인지 홀수인지를 입력합니다.\n",
    "- 정답이면 점수를 얻고, 오답이면 게임이 종료됩니다.\n",
    "- 제한 시간 내에 최대한 많은 점수를 얻는 방식입니다.\n",
    "\n",
    "### 코드 예시:\n",
    "\n",
    "```python\n",
    "import random\n",
    "import time\n",
    "\n",
    "def generate_random_number():\n",
    "    return random.randint(1, 100)\n",
    "\n",
    "def check_even_odd(number):\n",
    "    if number % 2 == 0:\n",
    "        return \"even\"\n",
    "    else:\n",
    "        return \"odd\"\n",
    "\n",
    "def play_game():\n",
    "    score = 0\n",
    "    start_time = time.time()\n",
    "    while time.time() - start_time < 30:  # 30초 타이머\n",
    "        number = generate_random_number()\n",
    "        print(f\"숫자: {number}\")\n",
    "        user_input = input(\"짝수인지 홀수인지 맞추세요 (even/odd): \").strip().lower()\n",
    "\n",
    "        correct_answer = check_even_odd(number)\n",
    "        if user_input == correct_answer:\n",
    "            score += 1\n",
    "            print(\"정답입니다!\")\n",
    "        else:\n",
    "            print(f\"오답입니다. 정답은 {correct_answer}입니다.\")\n",
    "            break\n",
    "    print(f\"게임 종료! 최종 점수: {score}\")\n",
    "\n",
    "if __name__ == \"__main__\":\n",
    "    play_game()\n",
    "```\n",
    "\n",
    "### 업무 분할 제안:\n",
    "\n",
    "1. **팀원 1: 숫자 생성 및 짝/홀수 판별 함수 작성**\n",
    "   - `generate_random_number` 함수와 `check_even_odd` 함수 구현\n",
    "   - 랜덤 숫자 생성 및 짝/홀수 여부를 판별하는 로직을 개발\n",
    "\n",
    "2. **팀원 2: 게임 진행 로직 작성**\n",
    "   - `play_game` 함수 작성\n",
    "   - 사용자 입력 처리, 점수 계산, 타이머 기능 구현\n",
    "\n",
    "3. **팀원 3: 사용자 인터페이스 및 코드 통합**\n",
    "   - 게임 시작 및 종료 메시지 출력\n",
    "   - 팀원 1과 2의 코드를 통합하고 게임 흐름 관리\n",
    "\n",
    "### 협업 팁:\n",
    "- 먼저 각자 맡은 부분을 독립적으로 작업한 후, 40분 정도 안에 자신의 코드를 완성한 후 Git이나 공유 드라이브를 통해 코드 통합을 시도합니다.\n",
    "- 최종적으로 통합된 프로그램을 테스트하며 디버깅하는 시간을 가집니다."
   ]
  },
  {
   "cell_type": "markdown",
   "metadata": {},
   "source": [
    "아무거나"
   ]
  },
  {
   "cell_type": "code",
   "execution_count": 1,
   "metadata": {},
   "outputs": [
    {
     "name": "stdout",
     "output_type": "stream",
     "text": [
      "1\n"
     ]
    }
   ],
   "source": [
    "print(1)"
   ]
  }
 ],
 "metadata": {
  "kernelspec": {
   "display_name": "Python 3",
   "language": "python",
   "name": "python3"
  },
  "language_info": {
   "codemirror_mode": {
    "name": "ipython",
    "version": 3
   },
   "file_extension": ".py",
   "mimetype": "text/x-python",
   "name": "python",
   "nbconvert_exporter": "python",
   "pygments_lexer": "ipython3",
   "version": "3.12.5"
  }
 },
 "nbformat": 4,
 "nbformat_minor": 2
}
